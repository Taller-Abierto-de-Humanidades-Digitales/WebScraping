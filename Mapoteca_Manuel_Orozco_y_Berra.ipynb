{
  "nbformat": 4,
  "nbformat_minor": 0,
  "metadata": {
    "colab": {
      "name": "Mapoteca_Manuel_Orozco_y_Berra.ipynb",
      "provenance": []
    },
    "kernelspec": {
      "name": "python3",
      "display_name": "Python 3"
    },
    "language_info": {
      "name": "python"
    }
  },
  "cells": [
    {
      "cell_type": "markdown",
      "metadata": {
        "id": "pZrJdJ4i8kQ8"
      },
      "source": [
        "## Montar el Drive para guardar y leer archivos"
      ]
    },
    {
      "cell_type": "code",
      "metadata": {
        "id": "c9WjqXU93Uau"
      },
      "source": [
        "from google.colab import drive\n",
        "drive.mount('/content/drive')"
      ],
      "execution_count": null,
      "outputs": []
    },
    {
      "cell_type": "markdown",
      "metadata": {
        "id": "xeou4Ajx8rGk"
      },
      "source": [
        "## Importar las librerías necesarias para correr el programa"
      ]
    },
    {
      "cell_type": "code",
      "metadata": {
        "id": "OsJAVquH3YKs"
      },
      "source": [
        "from bs4 import BeautifulSoup\n",
        "import urllib3\n",
        "import requests\n",
        "import shutil\n",
        "import pandas as pd\n",
        "import os\n",
        "import time\n",
        "from pathlib import Path\n",
        "import ssl\n"
      ],
      "execution_count": null,
      "outputs": []
    },
    {
      "cell_type": "markdown",
      "metadata": {
        "id": "rReOOgUL801z"
      },
      "source": [
        "## Configurar directorios"
      ]
    },
    {
      "cell_type": "code",
      "metadata": {
        "id": "1NO1e4Ox8zzE"
      },
      "source": [
        "local = \"/content/drive/My Drive/Colab Notebooks/mapoteca\"\n",
        "\n",
        "#Crear directorio\n",
        "Path(f\"{local}/descargas\").mkdir(parents=True, exist_ok=True)\n"
      ],
      "execution_count": null,
      "outputs": []
    },
    {
      "cell_type": "markdown",
      "metadata": {
        "id": "XL3u6Xlv87NQ"
      },
      "source": [
        "## Eliminar advertencias del servidor (no usar con servicios desconocidos)"
      ]
    },
    {
      "cell_type": "code",
      "metadata": {
        "id": "0OBCpy6a88Rb"
      },
      "source": [
        "urllib3.disable_warnings()\n",
        "ssl._create_default_https_context = ssl._create_unverified_context"
      ],
      "execution_count": null,
      "outputs": []
    },
    {
      "cell_type": "markdown",
      "metadata": {
        "id": "Xq-rnWic9F1V"
      },
      "source": [
        "## Funciones"
      ]
    },
    {
      "cell_type": "code",
      "metadata": {
        "id": "UCw_xqte8Fir"
      },
      "source": [
        "\n",
        "def lista_enlaces(iter):\n",
        "    url_base = \"https://mapoteca.siap.gob.mx/index.php/page/\"\n",
        "    query = \"/?s=ciudad+de+méxico\"\n",
        "\n",
        "    r = requests.get(url_base + iter + query, verify=False)\n",
        "    cont = r.content\n",
        "\n",
        "    sopa = BeautifulSoup(cont, 'html.parser')\n",
        "\n",
        "    links = sopa.find_all(\"h2\", class_=\"c-post__title\")\n",
        "\n",
        "    return [l.find('a').get('href') for l in links]\n",
        "\n",
        "\n",
        "def get_img_ruta(url):\n",
        "    r = requests.get(url, verify=False)\n",
        "    cont = r.content\n",
        "    sopa = BeautifulSoup(cont, 'html.parser')\n",
        "\n",
        "    contenido = sopa.find_all('div', class_=\"c-post__content\")\n",
        "\n",
        "    return [c.find('a').get('href') for c in contenido][0]\n",
        "\n",
        "\n",
        "def descargar_img(url):\n",
        "    enlace_imagen = get_img_ruta(url)\n",
        "\n",
        "    r_img = requests.get(enlace_imagen, stream=True, verify=False)\n",
        "\n",
        "    nombre_archivo = enlace_imagen.split(\"/\")[-1]\n",
        "    print(nombre_archivo)\n",
        "\n",
        "    if r_img.status_code == 200:\n",
        "        r_img.raw.decode_content = True\n",
        "        with open(f\"{local}/descargas/{nombre_archivo}\", 'wb') as a:\n",
        "            shutil.copyfileobj(r_img.raw, a)\n",
        "    else:\n",
        "        print(\"error\")\n",
        "\n",
        "\n",
        "def get_titulo_item(url):\n",
        "    try:\n",
        "        r = requests.get(url, verify=False)\n",
        "        cont = r.content\n",
        "        sopa = BeautifulSoup(cont, 'html.parser')\n",
        "\n",
        "        titulo_raw = sopa.find_all('header', class_=\"c-post__header\")\n",
        "        return [t.text for t in titulo_raw][0].replace(\"\\n\", \"\")\n",
        "    except urllib3.exceptions:\n",
        "        return \"error_titulo-\" + url.split(\"/\")[-1]\n",
        "\n",
        "\n",
        "def metadata(url):\n",
        "    titulo = get_titulo_item(url)\n",
        "\n",
        "    tabla = pd.read_html(url, encoding='utf-8')\n",
        "    tabla = tabla[0]\n",
        "\n",
        "    url_img = get_img_ruta(url)\n",
        "\n",
        "    tabla.loc[len(tabla.index)] = ['Enlace descarga', url_img]\n",
        "\n",
        "    print(\"descargando metadatos del mapa titulado \\\"{}\\\"\".format(titulo))\n",
        "    tabla.to_json(f\"{local}/descargas/{titulo}.json\",\n",
        "                  orient='split', force_ascii=False)\n",
        "\n"
      ],
      "execution_count": null,
      "outputs": []
    },
    {
      "cell_type": "markdown",
      "metadata": {
        "id": "ZpLQgaDL9I4m"
      },
      "source": [
        "## Crear enlaces\n",
        "Se guardan en un archivo de texto para ahorrar memoria RAM con listas muy grandes"
      ]
    },
    {
      "cell_type": "code",
      "metadata": {
        "id": "7bzEYBMl75XQ"
      },
      "source": [
        "\n",
        "enlaces_completos = []\n",
        "\n",
        "for i in range(0, 1):\n",
        "    try:\n",
        "        enlaces_completos.extend(lista_enlaces(str(i)))\n",
        "        print(enlaces_completos[:10])\n",
        "        print(len(enlaces_completos) / 10)\n",
        "    except:\n",
        "        print(\"la página {} está fuera del rango\".format(enlaces_completos / 10))\n",
        "        pass\n",
        "\n",
        "with open('enlaces_completos.txt', 'w', encoding='utf-8') as f:\n",
        "    f.write(str(enlaces_completos))"
      ],
      "execution_count": null,
      "outputs": []
    },
    {
      "cell_type": "markdown",
      "metadata": {
        "id": "w6JGBcNy9URc"
      },
      "source": [
        "## Descargar metadatos e imágenes"
      ]
    },
    {
      "cell_type": "code",
      "metadata": {
        "id": "1Zr3v3sj8drl"
      },
      "source": [
        "for e in enlaces_completos:\n",
        "    try:\n",
        "        if not os.path.isfile(f\"{local}/descargas/{get_titulo_item(e)}.json\"):\n",
        "            metadata(e)\n",
        "            descargar_img(e)\n",
        "            time.sleep(2)\n",
        "        else:\n",
        "            print(\"El archivo ya existe\")\n",
        "    except:\n",
        "        raise"
      ],
      "execution_count": null,
      "outputs": []
    }
  ]
}