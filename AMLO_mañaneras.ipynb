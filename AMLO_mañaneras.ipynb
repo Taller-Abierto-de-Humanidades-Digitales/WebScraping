{
  "nbformat": 4,
  "nbformat_minor": 0,
  "metadata": {
    "colab": {
      "name": "AMLO mañaneras.ipynb",
      "provenance": [],
      "collapsed_sections": []
    },
    "kernelspec": {
      "display_name": "Python 3",
      "name": "python3"
    }
  },
  "cells": [
    {
      "cell_type": "markdown",
      "metadata": {
        "id": "Z4EOV-QeRFFr"
      },
      "source": [
        "Importar librerías"
      ]
    },
    {
      "cell_type": "code",
      "metadata": {
        "colab": {
          "base_uri": "https://localhost:8080/"
        },
        "id": "lWWaLHLFSpOS",
        "outputId": "d724398a-dc05-4cf3-a934-d1315937fe85"
      },
      "source": [
        "from google.colab import drive\n",
        "drive.mount('/content/drive')"
      ],
      "execution_count": null,
      "outputs": [
        {
          "output_type": "stream",
          "text": [
            "Mounted at /content/drive\n"
          ],
          "name": "stdout"
        }
      ]
    },
    {
      "cell_type": "code",
      "metadata": {
        "id": "kYvBWkLLRA9s"
      },
      "source": [
        "from bs4 import BeautifulSoup\n",
        "import requests\n",
        "import os\n",
        "import codecs\n",
        "import time\n",
        "\n",
        "local = \"/content/drive/My Drive/Colab Notebooks/AMLO\" # cambiar a directorio local\n"
      ],
      "execution_count": null,
      "outputs": []
    },
    {
      "cell_type": "markdown",
      "metadata": {
        "id": "b1Kq65o245np"
      },
      "source": [
        "Funciones"
      ]
    },
    {
      "cell_type": "code",
      "metadata": {
        "id": "6qt7GX2qujOt"
      },
      "source": [
        "def bsopa(enlace):\n",
        "  recuperar = requests.get(enlace)\n",
        "  contenido = recuperar.content\n",
        "  return BeautifulSoup(contenido)"
      ],
      "execution_count": null,
      "outputs": []
    },
    {
      "cell_type": "code",
      "metadata": {
        "id": "hJNNErZ0tdge"
      },
      "source": [
        "def iteraciones(enlace):\n",
        "  sopa = bsopa(enlace)\n",
        "  lista = sopa.find_all('a', class_=\"page-numbers\")\n",
        "\n",
        "  return lista[8].text\n"
      ],
      "execution_count": null,
      "outputs": []
    },
    {
      "cell_type": "code",
      "metadata": {
        "id": "t49yMfAc45K2"
      },
      "source": [
        "def textoma(enlace):\n",
        "  sopa = bsopa(enlace)\n",
        "  return sopa.find_all('p')"
      ],
      "execution_count": null,
      "outputs": []
    },
    {
      "cell_type": "code",
      "metadata": {
        "id": "9CjzHT9b4mIy"
      },
      "source": [
        "def fecha(enlace):\n",
        "  fragmentos = enlace.split(\"/\")\n",
        "  amd = fragmentos[3:6]\n",
        "  return \",\".join(amd).replace(\",\", \"-\")\n"
      ],
      "execution_count": null,
      "outputs": []
    },
    {
      "cell_type": "markdown",
      "metadata": {
        "id": "q2v63IB0_xgT"
      },
      "source": [
        "Descargar archivos. Cada \"mañanera\" en un archivo de texto."
      ]
    },
    {
      "cell_type": "code",
      "metadata": {
        "colab": {
          "background_save": true
        },
        "id": "KVMf2JYe95x0"
      },
      "source": [
        "url = \"https://lopezobrador.org.mx/transcripciones\"\n",
        "rango = int(iteraciones(url))\n",
        "\n",
        "dir_local = \"{}/descargasAMLO/\".format(local)\n",
        "\n",
        "if not os.path.exists(dir_local):\n",
        "  os.makedirs(dir_local)\n",
        "\n",
        "for i in range(rango):\n",
        "  pag_inicio = \"{}/page/{}/\".format(url, i+1)\n",
        "\n",
        "  sopa = bsopa(pag_inicio)\n",
        "  enlaces = sopa.find_all('h2', class_=\"entry-title\")\n",
        "\n",
        "  for h in enlaces:\n",
        "    link = h.find_all('a')\n",
        "    for l in link:\n",
        "      enlace_mana = l['href']\n",
        "      nombre_archivo = fecha(enlace_mana)\n",
        "      if not os.path.isfile(\"{}{}.txt\".format(dir_local, nombre_archivo)):\n",
        "        try:\n",
        "          with codecs.open(\"{}{}.txt\".format(dir_local, nombre_archivo), 'a', encoding='utf-8') as f:\n",
        "            texto = textoma(enlace_mana)\n",
        "            for t in texto:\n",
        "              f.write(t.text)\n",
        "          f.close()\n",
        "          time.sleep(5)\n",
        "        except:\n",
        "          raise\n",
        "\n",
        "\n"
      ],
      "execution_count": null,
      "outputs": []
    }
  ]
}